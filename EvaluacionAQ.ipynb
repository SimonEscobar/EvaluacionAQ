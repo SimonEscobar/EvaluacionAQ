{
  "nbformat": 4,
  "nbformat_minor": 0,
  "metadata": {
    "colab": {
      "provenance": [],
      "authorship_tag": "ABX9TyNKRCSgnnWN3f9LBKmS0vZI",
      "include_colab_link": true
    },
    "kernelspec": {
      "name": "python3",
      "display_name": "Python 3"
    },
    "language_info": {
      "name": "python"
    }
  },
  "cells": [
    {
      "cell_type": "markdown",
      "metadata": {
        "id": "view-in-github",
        "colab_type": "text"
      },
      "source": [
        "<a href=\"https://colab.research.google.com/github/SimonEscobar/EvaluacionAQ/blob/main/EvaluacionAQ.ipynb\" target=\"_parent\"><img src=\"https://colab.research.google.com/assets/colab-badge.svg\" alt=\"Open In Colab\"/></a>"
      ]
    },
    {
      "cell_type": "code",
      "execution_count": null,
      "metadata": {
        "colab": {
          "base_uri": "https://localhost:8080/"
        },
        "id": "hVVLOM1Y0qsU",
        "outputId": "ce88c1be-80af-4d97-b9d6-e4ddc3b8125a"
      },
      "outputs": [
        {
          "output_type": "stream",
          "name": "stdout",
          "text": [
            "2\n",
            "10\n"
          ]
        }
      ],
      "source": [
        "def listados(a):\n",
        "\n",
        "    #Usamos un ciclo for para recorrer la lista a\n",
        "    #El ciclo va a recorrer  hasta el segundo elemento por la función range\n",
        "    #que limita la cantidad de espacion que recorre el ciclo\n",
        "\n",
        "    for i in range(2):\n",
        "\n",
        "        #Imprime el numero en la posición i de la lista\n",
        "\n",
        "        print(a[i])\n",
        "\n",
        "lista = [2, 10, 24, 6, 1]\n",
        "listados(lista)"
      ]
    }
  ]
}