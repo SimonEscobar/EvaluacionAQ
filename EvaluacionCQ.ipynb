{
  "nbformat": 4,
  "nbformat_minor": 0,
  "metadata": {
    "colab": {
      "provenance": [],
      "authorship_tag": "ABX9TyOYU19yGqViMdS7a/tACt9g",
      "include_colab_link": true
    },
    "kernelspec": {
      "name": "python3",
      "display_name": "Python 3"
    },
    "language_info": {
      "name": "python"
    }
  },
  "cells": [
    {
      "cell_type": "markdown",
      "metadata": {
        "id": "view-in-github",
        "colab_type": "text"
      },
      "source": [
        "<a href=\"https://colab.research.google.com/github/SimonEscobar/EvaluacionAQ/blob/main/EvaluacionCQ.ipynb\" target=\"_parent\"><img src=\"https://colab.research.google.com/assets/colab-badge.svg\" alt=\"Open In Colab\"/></a>"
      ]
    },
    {
      "cell_type": "code",
      "execution_count": 3,
      "metadata": {
        "colab": {
          "base_uri": "https://localhost:8080/"
        },
        "id": "TXoalVvA3E8h",
        "outputId": "2793a86c-1b83-4f8a-f113-af23c19efcb2"
      },
      "outputs": [
        {
          "output_type": "stream",
          "name": "stdout",
          "text": [
            "numero : 1\n",
            "numero : 2\n",
            "numero : 3\n",
            "numero : 4\n",
            "numero : 5\n"
          ]
        }
      ],
      "source": [
        "#Los loopers o bucles son estructuras que nos permiten ejecutar el mismo bloque de codigo\n",
        "#varias veces sin necesidad de volver a escribir el mismo codigo una y otra vez\n",
        "#Mediante los bucles, las lineas de codigo que esten dentro de el se ejecutan de manera\n",
        "#automatica, hasta que llegue a un punto de fin\n",
        "\n",
        "\n",
        "# El ciclo for recorre la lista y ejecuta el bloque de código por cada elemento de la lista\n",
        "recorrer = [1, 2, 3, 4, 5]\n",
        "for numero in recorrer:\n",
        "    print(f\"numero: {numero}\")\n",
        "\n",
        "#Asi va por todas las posiciones de la lista e imprime el valor en cada posicion"
      ]
    }
  ]
}