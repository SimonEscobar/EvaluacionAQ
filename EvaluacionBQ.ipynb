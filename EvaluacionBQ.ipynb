{
  "nbformat": 4,
  "nbformat_minor": 0,
  "metadata": {
    "colab": {
      "provenance": [],
      "authorship_tag": "ABX9TyPkhqHgj9xfFXQKfKNheDz+",
      "include_colab_link": true
    },
    "kernelspec": {
      "name": "python3",
      "display_name": "Python 3"
    },
    "language_info": {
      "name": "python"
    }
  },
  "cells": [
    {
      "cell_type": "markdown",
      "metadata": {
        "id": "view-in-github",
        "colab_type": "text"
      },
      "source": [
        "<a href=\"https://colab.research.google.com/github/SimonEscobar/EvaluacionAQ/blob/main/EvaluacionBQ.ipynb\" target=\"_parent\"><img src=\"https://colab.research.google.com/assets/colab-badge.svg\" alt=\"Open In Colab\"/></a>"
      ]
    },
    {
      "cell_type": "code",
      "execution_count": null,
      "metadata": {
        "colab": {
          "base_uri": "https://localhost:8080/"
        },
        "id": "CpSVur4h12v9",
        "outputId": "857f1d8b-14f4-4757-e9d3-eeb0fd3e5d4e"
      },
      "outputs": [
        {
          "output_type": "stream",
          "name": "stdout",
          "text": [
            "{'nombre': 'Simon', 'edad': 25}\n"
          ]
        }
      ],
      "source": [
        "def diccionario(lista):\n",
        "\n",
        "    #En Python, las listas inician desde 0, por lo tanto el recorrido es de la siguiente manera:\n",
        "    #posicion 0, posicion 1, posicion 2, posicion 3; por lo tanto la posición que buscamos es la 3\n",
        "    diccionario = lista[3]  #Accede al elemento en la posicion 3\n",
        "    return diccionario  #Se le hace return al diccionario que obtubimos\n",
        "\n",
        "#posicion 0: Hola\n",
        "#posicion 1: Como estas?\n",
        "#posicion 2: Que calor\n",
        "#posicion 3: Aqui se encuentra el diccionario\n",
        "lista = ['Hola','Como estas?', 'Que calor', {'nombre': 'Simon', 'edad': 25}]\n",
        "resultado = diccionario(lista)\n",
        "\n",
        "#Imprime el diccionario en la posicion 3\n",
        "print(resultado)"
      ]
    }
  ]
}