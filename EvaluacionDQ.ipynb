{
  "nbformat": 4,
  "nbformat_minor": 0,
  "metadata": {
    "colab": {
      "provenance": [],
      "authorship_tag": "ABX9TyPlW+a6tiOyOHgqfP5t225u",
      "include_colab_link": true
    },
    "kernelspec": {
      "name": "python3",
      "display_name": "Python 3"
    },
    "language_info": {
      "name": "python"
    }
  },
  "cells": [
    {
      "cell_type": "markdown",
      "metadata": {
        "id": "view-in-github",
        "colab_type": "text"
      },
      "source": [
        "<a href=\"https://colab.research.google.com/github/SimonEscobar/EvaluacionAQ/blob/main/EvaluacionDQ.ipynb\" target=\"_parent\"><img src=\"https://colab.research.google.com/assets/colab-badge.svg\" alt=\"Open In Colab\"/></a>"
      ]
    },
    {
      "cell_type": "code",
      "execution_count": null,
      "metadata": {
        "colab": {
          "base_uri": "https://localhost:8080/"
        },
        "id": "-JOH7Ksswxju",
        "outputId": "c90b545b-793d-478a-b32d-0719e38e38cd"
      },
      "outputs": [
        {
          "output_type": "stream",
          "name": "stdout",
          "text": [
            "Name: Simon\n",
            "Not found\n"
          ]
        }
      ],
      "source": [
        "#Se le asigna a cada key su respectivo valor en los diccionarios\n",
        "people = [\n",
        "    {\"name\": \"Carter\", \"number\": \"+1-617-495-1000\"},\n",
        "    {\"name\": \"David\", \"number\": \"+1-617-495-1000\"},\n",
        "    {\"name\": \"John\", \"number\": \"+1-949-468-2750\"}\n",
        "]\n",
        "\n",
        "#Se pide que ingrese el nombre para buscar en el diccionario\n",
        "name = input(\"Name: \")\n",
        "\n",
        "for person in people:\n",
        "    #Si el nombre ingresado se encuentra en la lista que se llenó anteriormente\n",
        "    #se imprime el nombre y el número que se le asignó\n",
        "    if person[\"name\"] == name:\n",
        "        number = person[\"number\"]\n",
        "        print(f\"Found {number}\")\n",
        "        break\n",
        "#Si el nombre ingresado no se encuentra se imprime \"Not found\" lo que nos dice\n",
        "#que el nombre ingresado no existe en la lista\n",
        "else:\n",
        "    print(\"Not found\")"
      ]
    }
  ]
}